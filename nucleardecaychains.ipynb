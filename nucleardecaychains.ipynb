{
 "cells": [
  {
   "cell_type": "code",
   "execution_count": 1,
   "metadata": {},
   "outputs": [],
   "source": [
    "import plotly.graph_objs as go"
   ]
  },
  {
   "cell_type": "code",
   "execution_count": 4,
   "metadata": {},
   "outputs": [],
   "source": [
    "particles = {\n",
    "    'Parent': {\n",
    "        'name': 'Uranium-235',\n",
    "        'children': ['Thorium-231', 'Protactinium-231']\n",
    "    },\n",
    "    'Thorium-231': {\n",
    "        'name': 'Thorium-231',\n",
    "        'children': []\n",
    "    },\n",
    "    'Protactinium-231': {\n",
    "        'name': 'Protactinium-231',\n",
    "        'children': ['Grandchild1']\n",
    "    },\n",
    "    'Grandchild1': {\n",
    "        'name': 'Actinium-227',\n",
    "        'children': ['Francium-223', 'Thorium-227']\n",
    "    },\n",
    "    'GGrandchild1': {\n",
    "        'name': 'Francium-223',\n",
    "        'children': ['Radium-223', 'Astatine-219']\n",
    "    }\n",
    "}"
   ]
  }
 ],
 "metadata": {
  "kernelspec": {
   "display_name": "Python 3",
   "language": "python",
   "name": "python3"
  },
  "language_info": {
   "codemirror_mode": {
    "name": "ipython",
    "version": 3
   },
   "file_extension": ".py",
   "mimetype": "text/x-python",
   "name": "python",
   "nbconvert_exporter": "python",
   "pygments_lexer": "ipython3",
   "version": "3.11.1"
  },
  "orig_nbformat": 4
 },
 "nbformat": 4,
 "nbformat_minor": 2
}
