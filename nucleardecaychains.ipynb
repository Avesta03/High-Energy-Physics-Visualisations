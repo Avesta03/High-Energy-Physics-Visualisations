{
 "cells": [
  {
   "cell_type": "code",
   "execution_count": 4,
   "metadata": {},
   "outputs": [],
   "source": [
    "import plotly.graph_objs as go"
   ]
  },
  {
   "cell_type": "code",
   "execution_count": 5,
   "metadata": {},
   "outputs": [],
   "source": [
    "particles = {\n",
    "    'Parent': {\n",
    "        'name': 'Uranium-235',\n",
    "        'children': ['Thorium-231', 'Protactinium-231']\n",
    "    },\n",
    "    'Thorium-231': {\n",
    "        'name': 'Thorium-231',\n",
    "        'children': []\n",
    "    },\n",
    "    'Protactinium-231': {\n",
    "        'name': 'Protactinium-231',\n",
    "        'children': ['Grandchild1']\n",
    "    },\n",
    "    'Grandchild1': {\n",
    "        'name': 'Actinium-227',\n",
    "        'children': ['Francium-223', 'Thorium-227']\n",
    "    },\n",
    "    'GGrandchild1': {\n",
    "        'name': 'Francium-223',\n",
    "        'children': ['Radium-223', 'Astatine-219']\n",
    "    }\n",
    "}"
   ]
  },
  {
   "cell_type": "code",
   "execution_count": 6,
   "metadata": {},
   "outputs": [],
   "source": [
    "traces = [] # I'll store the traces here "
   ]
  },
  {
   "cell_type": "code",
   "execution_count": 7,
   "metadata": {},
   "outputs": [],
   "source": [
    "def decay_chain(particle, x, y, z, dx, dy, dz): # Recursive function for decay chain\n",
    "    trace = go.Scatter3d(\n",
    "        x=[x],\n",
    "        y=[y],\n",
    "        z=[z],\n",
    "        text=particle['name'],\n",
    "        mode='markers+text', # Find out how to get +lines\n",
    "        marker=dict(\n",
    "            size=6,\n",
    "            color='blue'\n",
    "        )\n",
    "    )\n",
    "    traces.append(trace)\n",
    "\n",
    "    num_children = len(decay_chain[particle])\n",
    "    child_positions = [(x + dx, y + dy * (i - (num_children - 1) / 2), z + dz) for i in range(num_children)] # Positions of child particles\n",
    "\n",
    "    for child_particle, child_position in zip(decay_chain[particle], child_positions):\n",
    "        decay_chain(child_particle, * child_position, dx, dy, dz) # Building decay chain for each particle recursively "
   ]
  },
  {
   "cell_type": "code",
   "execution_count": 8,
   "metadata": {},
   "outputs": [],
   "source": [
    "x_start, y_start, z_start = 0, 0, 0\n",
    "dx, dy, dz = 1, 2, 3"
   ]
  },
  {
   "cell_type": "code",
   "execution_count": 9,
   "metadata": {},
   "outputs": [
    {
     "ename": "TypeError",
     "evalue": "string indices must be integers, not 'str'",
     "output_type": "error",
     "traceback": [
      "\u001b[1;31m---------------------------------------------------------------------------\u001b[0m",
      "\u001b[1;31mTypeError\u001b[0m                                 Traceback (most recent call last)",
      "Cell \u001b[1;32mIn[9], line 1\u001b[0m\n\u001b[1;32m----> 1\u001b[0m decay_chain(\u001b[39m'\u001b[39;49m\u001b[39mParent\u001b[39;49m\u001b[39m'\u001b[39;49m, x_start, y_start, z_start, dx, dy, dz)\n",
      "Cell \u001b[1;32mIn[7], line 6\u001b[0m, in \u001b[0;36mdecay_chain\u001b[1;34m(particle, x, y, z, dx, dy, dz)\u001b[0m\n\u001b[0;32m      1\u001b[0m \u001b[39mdef\u001b[39;00m \u001b[39mdecay_chain\u001b[39m(particle, x, y, z, dx, dy, dz): \u001b[39m# Recursive function for decay chain\u001b[39;00m\n\u001b[0;32m      2\u001b[0m     trace \u001b[39m=\u001b[39m go\u001b[39m.\u001b[39mScatter3d(\n\u001b[0;32m      3\u001b[0m         x\u001b[39m=\u001b[39m[x],\n\u001b[0;32m      4\u001b[0m         y\u001b[39m=\u001b[39m[y],\n\u001b[0;32m      5\u001b[0m         z\u001b[39m=\u001b[39m[z],\n\u001b[1;32m----> 6\u001b[0m         text\u001b[39m=\u001b[39mparticle[\u001b[39m'\u001b[39;49m\u001b[39mname\u001b[39;49m\u001b[39m'\u001b[39;49m],\n\u001b[0;32m      7\u001b[0m         mode\u001b[39m=\u001b[39m\u001b[39m'\u001b[39m\u001b[39mmarkers+text\u001b[39m\u001b[39m'\u001b[39m, \u001b[39m# Find out how to get +lines\u001b[39;00m\n\u001b[0;32m      8\u001b[0m         marker\u001b[39m=\u001b[39m\u001b[39mdict\u001b[39m(\n\u001b[0;32m      9\u001b[0m             size\u001b[39m=\u001b[39m\u001b[39m6\u001b[39m,\n\u001b[0;32m     10\u001b[0m             color\u001b[39m=\u001b[39m\u001b[39m'\u001b[39m\u001b[39mblue\u001b[39m\u001b[39m'\u001b[39m\n\u001b[0;32m     11\u001b[0m         )\n\u001b[0;32m     12\u001b[0m     )\n\u001b[0;32m     13\u001b[0m     traces\u001b[39m.\u001b[39mappend(trace)\n\u001b[0;32m     15\u001b[0m     num_children \u001b[39m=\u001b[39m \u001b[39mlen\u001b[39m(decay_chain[particle])\n",
      "\u001b[1;31mTypeError\u001b[0m: string indices must be integers, not 'str'"
     ]
    }
   ],
   "source": [
    "decay_chain('Parent', x_start, y_start, z_start, dx, dy, dz) # debug this also"
   ]
  },
  {
   "cell_type": "code",
   "execution_count": null,
   "metadata": {},
   "outputs": [],
   "source": []
  }
 ],
 "metadata": {
  "kernelspec": {
   "display_name": "Python 3",
   "language": "python",
   "name": "python3"
  },
  "language_info": {
   "codemirror_mode": {
    "name": "ipython",
    "version": 3
   },
   "file_extension": ".py",
   "mimetype": "text/x-python",
   "name": "python",
   "nbconvert_exporter": "python",
   "pygments_lexer": "ipython3",
   "version": "3.11.1"
  },
  "orig_nbformat": 4
 },
 "nbformat": 4,
 "nbformat_minor": 2
}
