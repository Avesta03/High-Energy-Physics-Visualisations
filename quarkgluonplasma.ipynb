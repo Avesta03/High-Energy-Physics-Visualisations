{
 "cells": [
  {
   "cell_type": "code",
   "execution_count": 1,
   "metadata": {},
   "outputs": [],
   "source": [
    "import numpy as np\n",
    "import matplotlib.pyplot as plt\n",
    "import matplotlib.animation as animation\n",
    "import ipywidgets as widgets\n",
    "from IPython.display import display, clear_output"
   ]
  },
  {
   "cell_type": "code",
   "execution_count": 2,
   "metadata": {},
   "outputs": [],
   "source": [
    "# Introducing constants\n",
    "T_initial = 2.0  # Initial temperature in GeV\n",
    "T_transition = 0.15  # Temperature at which QGP transitions to hadrons in GeV\n",
    "T_final = 0.1  # Final temperature in GeV\n",
    "\n",
    "# Implement a time step and net time for the simulation\n",
    "dt = 0.1\n",
    "total_time = 2.0"
   ]
  },
  {
   "cell_type": "code",
   "execution_count": 3,
   "metadata": {},
   "outputs": [],
   "source": [
    "# Devving func to calculate effective degrees of freedom (dof) for the Q-GP\n",
    "def effective_dof(T):\n",
    "    if T > T_transition:\n",
    "        return 37  # Effective dof for Q-GP (with quarks and gluons)\n",
    "    else:\n",
    "        return 17  # Effective dof for hadrons"
   ]
  },
  {
   "cell_type": "code",
   "execution_count": 4,
   "metadata": {},
   "outputs": [],
   "source": [
    "# Developing func to calculate the temperature evolution\n",
    "def temperature_evolution(T_initial, T_final, total_time, dt):\n",
    "    time_points = np.arange(0, total_time, dt, dtype=np.float128)\n",
    "    temperatures = np.array([T_initial], dtype=np.float128)\n",
    "\n",
    "    for i in range(1, len(time_points)):\n",
    "        previous_temperature = temperatures[i - 1]\n",
    "        dof = effective_dof(previous_temperature)\n",
    "        dT = -(30 / (np.pi**2)) * dof * previous_temperature**2 / (total_time / len(time_points))\n",
    "        new_temperature = previous_temperature + dT * dt\n",
    "        temperatures = np.append(temperatures, new_temperature)\n",
    "\n",
    "        # Stop the simulation once the temperature reaches T_final\n",
    "        if new_temperature <= T_final:\n",
    "            break\n",
    "\n",
    "    return time_points, temperatures"
   ]
  },
  {
   "cell_type": "code",
   "execution_count": 5,
   "metadata": {},
   "outputs": [],
   "source": [
    "# Developing a func to animate the temperature evolution\n",
    "def animate_temperature_evolution(temperatures):\n",
    "    fig, ax = plt.subplots()\n",
    "    ax.set_xlim(0, total_time)\n",
    "    ax.set_ylim(0, T_initial)\n",
    "    line, = ax.plot([], [], lw=2)\n",
    "\n",
    "    def init():\n",
    "        line.set_data([], [])\n",
    "        return line,\n",
    "\n",
    "    def update(frame):\n",
    "        line.set_data(time_points[:frame], temperatures[:frame])\n",
    "        return line,\n",
    "\n",
    "    ani = animation.FuncAnimation(fig, update, frames=len(temperatures), init_func=init,\n",
    "                                  blit=True, interval=50, repeat=False)\n",
    "\n",
    "    plt.xlabel('Time (GeV^-1)')\n",
    "    plt.ylabel('Temperature (GeV)')\n",
    "    plt.title('Quark-Gluon Plasma Evolution')\n",
    "    plt.show()"
   ]
  },
  {
   "cell_type": "code",
   "execution_count": 6,
   "metadata": {},
   "outputs": [],
   "source": [
    "# Developing a func to interactively visualise the temperature evolution\n",
    "def interactive_temperature_evolution():\n",
    "    temperatures = temperature_evolution(T_initial, T_final, total_time, dt)\n",
    "\n",
    "    @widgets.interact(time=widgets.FloatSlider(min=0, max=total_time, step=dt, value=0))\n",
    "    def plot_temperature_evolution(time):\n",
    "        clear_output(wait=True)\n",
    "        index = int(time / dt)\n",
    "        plt.plot(time_points[:index], temperatures[:index])\n",
    "        plt.xlabel('Time (GeV^-1)')\n",
    "        plt.ylabel('Temperature (GeV)')\n",
    "        plt.title('Quark-Gluon Plasma Evolution')\n",
    "        plt.grid(True)\n",
    "        plt.show()"
   ]
  },
  {
   "cell_type": "code",
   "execution_count": 7,
   "metadata": {},
   "outputs": [
    {
     "ename": "AttributeError",
     "evalue": "module 'numpy' has no attribute 'float128'",
     "output_type": "error",
     "traceback": [
      "\u001b[1;31m---------------------------------------------------------------------------\u001b[0m",
      "\u001b[1;31mAttributeError\u001b[0m                            Traceback (most recent call last)",
      "Cell \u001b[1;32mIn[7], line 3\u001b[0m\n\u001b[0;32m      1\u001b[0m \u001b[39m# Now to finally run the animations\u001b[39;00m\n\u001b[0;32m      2\u001b[0m time_points \u001b[39m=\u001b[39m np\u001b[39m.\u001b[39marange(\u001b[39m0\u001b[39m, total_time, dt)\n\u001b[1;32m----> 3\u001b[0m interactive_temperature_evolution()\n\u001b[0;32m      4\u001b[0m animate_temperature_evolution(temperature_evolution(T_initial, T_final, total_time, dt))\n",
      "Cell \u001b[1;32mIn[6], line 3\u001b[0m, in \u001b[0;36minteractive_temperature_evolution\u001b[1;34m()\u001b[0m\n\u001b[0;32m      2\u001b[0m \u001b[39mdef\u001b[39;00m \u001b[39minteractive_temperature_evolution\u001b[39m():\n\u001b[1;32m----> 3\u001b[0m     temperatures \u001b[39m=\u001b[39m temperature_evolution(T_initial, T_final, total_time, dt)\n\u001b[0;32m      5\u001b[0m     \u001b[39m@widgets\u001b[39m\u001b[39m.\u001b[39minteract(time\u001b[39m=\u001b[39mwidgets\u001b[39m.\u001b[39mFloatSlider(\u001b[39mmin\u001b[39m\u001b[39m=\u001b[39m\u001b[39m0\u001b[39m, \u001b[39mmax\u001b[39m\u001b[39m=\u001b[39mtotal_time, step\u001b[39m=\u001b[39mdt, value\u001b[39m=\u001b[39m\u001b[39m0\u001b[39m))\n\u001b[0;32m      6\u001b[0m     \u001b[39mdef\u001b[39;00m \u001b[39mplot_temperature_evolution\u001b[39m(time):\n\u001b[0;32m      7\u001b[0m         clear_output(wait\u001b[39m=\u001b[39m\u001b[39mTrue\u001b[39;00m)\n",
      "Cell \u001b[1;32mIn[4], line 3\u001b[0m, in \u001b[0;36mtemperature_evolution\u001b[1;34m(T_initial, T_final, total_time, dt)\u001b[0m\n\u001b[0;32m      2\u001b[0m \u001b[39mdef\u001b[39;00m \u001b[39mtemperature_evolution\u001b[39m(T_initial, T_final, total_time, dt):\n\u001b[1;32m----> 3\u001b[0m     time_points \u001b[39m=\u001b[39m np\u001b[39m.\u001b[39marange(\u001b[39m0\u001b[39m, total_time, dt, dtype\u001b[39m=\u001b[39mnp\u001b[39m.\u001b[39;49mfloat128)\n\u001b[0;32m      4\u001b[0m     temperatures \u001b[39m=\u001b[39m np\u001b[39m.\u001b[39marray([T_initial], dtype\u001b[39m=\u001b[39mnp\u001b[39m.\u001b[39mfloat128)\n\u001b[0;32m      6\u001b[0m     \u001b[39mfor\u001b[39;00m i \u001b[39min\u001b[39;00m \u001b[39mrange\u001b[39m(\u001b[39m1\u001b[39m, \u001b[39mlen\u001b[39m(time_points)):\n",
      "File \u001b[1;32mc:\\Users\\User\\AppData\\Local\\Programs\\Python\\Python311\\Lib\\site-packages\\numpy\\__init__.py:322\u001b[0m, in \u001b[0;36m__getattr__\u001b[1;34m(attr)\u001b[0m\n\u001b[0;32m    319\u001b[0m     \u001b[39m\"\u001b[39m\u001b[39mRemoved in NumPy 1.25.0\u001b[39m\u001b[39m\"\u001b[39m\n\u001b[0;32m    320\u001b[0m     \u001b[39mraise\u001b[39;00m \u001b[39mRuntimeError\u001b[39;00m(\u001b[39m\"\u001b[39m\u001b[39mTester was removed in NumPy 1.25.\u001b[39m\u001b[39m\"\u001b[39m)\n\u001b[1;32m--> 322\u001b[0m \u001b[39mraise\u001b[39;00m \u001b[39mAttributeError\u001b[39;00m(\u001b[39m\"\u001b[39m\u001b[39mmodule \u001b[39m\u001b[39m{!r}\u001b[39;00m\u001b[39m has no attribute \u001b[39m\u001b[39m\"\u001b[39m\n\u001b[0;32m    323\u001b[0m                      \u001b[39m\"\u001b[39m\u001b[39m{!r}\u001b[39;00m\u001b[39m\"\u001b[39m\u001b[39m.\u001b[39mformat(\u001b[39m__name__\u001b[39m, attr))\n",
      "\u001b[1;31mAttributeError\u001b[0m: module 'numpy' has no attribute 'float128'"
     ]
    }
   ],
   "source": [
    "# Now to finally run the animations\n",
    "time_points = np.arange(0, total_time, dt)\n",
    "interactive_temperature_evolution()\n",
    "animate_temperature_evolution(temperature_evolution(T_initial, T_final, total_time, dt))\n"
   ]
  }
 ],
 "metadata": {
  "kernelspec": {
   "display_name": "Python 3",
   "language": "python",
   "name": "python3"
  },
  "language_info": {
   "codemirror_mode": {
    "name": "ipython",
    "version": 3
   },
   "file_extension": ".py",
   "mimetype": "text/x-python",
   "name": "python",
   "nbconvert_exporter": "python",
   "pygments_lexer": "ipython3",
   "version": "3.11.1"
  },
  "orig_nbformat": 4
 },
 "nbformat": 4,
 "nbformat_minor": 2
}
